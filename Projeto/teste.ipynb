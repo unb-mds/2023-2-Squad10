{
 "cells": [
  {
   "cell_type": "code",
   "execution_count": 26,
   "metadata": {},
   "outputs": [],
   "source": [
    "from selenium import webdriver\n",
    "from selenium.webdriver.common.by import By\n",
    "from selenium.webdriver.support.ui import WebDriverWait\n",
    "from selenium.webdriver.support import expected_conditions as EC\n",
    "from selenium.webdriver.common.keys import Keys\n",
    "from time import sleep \n",
    "from bs4 import BeautifulSoup\n",
    "\n",
    "driver = webdriver.Chrome()"
   ]
  },
  {
   "cell_type": "code",
   "execution_count": 27,
   "metadata": {},
   "outputs": [],
   "source": [
    "class bcolors:\n",
    "    HEADER = '\\033[95m'\n",
    "    OKBLUE = '\\033[94m'\n",
    "    OKCYAN = '\\033[96m'\n",
    "    OKGREEN = '\\033[92m'\n",
    "    WARNING = '\\033[93m'\n",
    "    FAIL = '\\033[91m'\n",
    "    ENDC = '\\033[0m'\n",
    "    BOLD = '\\033[1m'\n",
    "    UNDERLINE = '\\033[4m'"
   ]
  },
  {
   "cell_type": "code",
   "execution_count": 28,
   "metadata": {},
   "outputs": [
    {
     "name": "stdout",
     "output_type": "stream",
     "text": [
      "\u001b[93mrentalPrice not founded in this page\u001b[0m\n",
      "{'title': 'Estanconfor Santos with Jacuzzi', 'rentalPrice': 'R$374'}\n",
      "['Pool view', 'Hair dryer', 'Hot water', 'Free washer – In unit', 'Free dryer – In unit', 'Essentials', 'Hangers', 'Bed linens', 'Extra pillows and blankets', 'Room-darkening shades', 'Iron', 'Drying rack for clothing', 'Clothing storage: wardrobe', 'HDTV with standard cable', 'Central air conditioning', 'Central heating', 'Smoke alarm', 'Fire extinguisher', 'Wifi', 'Kitchen', 'Refrigerator', 'Microwave', 'Cooking basics', 'Dishes and silverware', 'Freezer', 'Electrolux  electric stove', 'Eletrolux stainless steel oven', 'Coffee maker: pour-over coffee', 'Dining table', 'Public or shared beach access', 'Laundromat nearby', 'Private patio or balcony', 'Private backyard – Fully fenced', 'Outdoor furniture', 'Sun loungers', 'Free parking garage on premises', 'Shared outdoor pool - available all year', 'Private hot tub', 'Shared gym in building', 'Luggage dropoff allowed', 'Self check-in', 'Building staff', 'Cleaning available during stay']\n"
     ]
    }
   ],
   "source": [
    "infoArray = {}\n",
    "def accessHouse(url):\n",
    "    driver.get(url)\n",
    "    sleep(7) #Aumentar caso a página nao renderize corretamente\n",
    "\n",
    "    html = driver.execute_script(\"return document.getElementsByTagName('html')[0].innerHTML\") #Pega o codigo apos a renderizacao\n",
    "    get_details = BeautifulSoup(html, \"html.parser\")\n",
    "\n",
    "    title = ''\n",
    "\n",
    "    try:\n",
    "        closeModal()\n",
    "    except:\n",
    "        pass\n",
    "\n",
    "    try:\n",
    "        title = get_details.select_one(\"#site-content > div > div:nth-child(1) > div:nth-child(1) > div:nth-child(1) > div > div > div > div > section > div._b8stb0 > span > h1\").getText(strip = True)\n",
    "    except : \n",
    "        print(bcolors.WARNING +  \"Title not founded in this page\" + bcolors.ENDC)\n",
    "        pass\n",
    "    \n",
    "    rentalPrice = ''\n",
    "    try:\n",
    "        rentalPrice = get_details.select_one(\"#site-content > div > div:nth-child(1) > div:nth-child(3) > div > div._1s21a6e2 > div > div > div:nth-child(1) > div > div > div > div > div > div > div._wgmchy > div._c7v1se > div:nth-child(1) > div > span > div > span._tyxjp1\").getText(strip = True)\n",
    "    except:\n",
    "        print(bcolors.WARNING + 'rentalPrice not founded in this page' + bcolors.ENDC)\n",
    "        pass\n",
    "    #Tenta um segundo campo caso o primeiro tenha falhado\n",
    "    if(rentalPrice == ''):\n",
    "        try:\n",
    "            rentalPrice = get_details.select_one(\"#site-content > div > div > div > div > div._1s21a6e2 > div > div > div > div > div > div > div > div > div > div._wgmchy > div._c7v1se > div > div > span > div > span._1y74zjx\").getText(strip = True)\n",
    "        except:\n",
    "            print(bcolors.WARNING + 'rentalPrice not founded in this page' + bcolors.ENDC)\n",
    "            pass\n",
    "\n",
    "    infoArray['title'] = title     \n",
    "    infoArray['rentalPrice'] = rentalPrice     \n",
    "\n",
    "    print(infoArray)\n",
    "    try:\n",
    "        getOffers()\n",
    "    except:\n",
    "        print(bcolors.WARNING +  'No offer has been found or DOM not rendered the expected element' + bcolors.ENDC)\n",
    "        pass\n",
    "\n",
    "def getOffers():\n",
    "    for i in range(1,10):\n",
    "        driver.execute_script(\"window.scrollBy(0,200)\") #Pega o codigo apos a renderizacao\n",
    "        sleep(0.5)\n",
    "        try:\n",
    "            WebDriverWait(driver, 1).until(EC.presence_of_element_located((By.CSS_SELECTOR, \"#site-content > div > div:nth-child(1) > div:nth-child(3) > div > div._16e70jgn > div > div:nth-child(7) > div > div:nth-child(2) > section > div.b9672i7.dir.dir-ltr > button\"))).click()\n",
    "            break\n",
    "        except:\n",
    "            pass\n",
    "\n",
    "\n",
    "    sleep(1)\n",
    "    html = driver.execute_script(\"return document.getElementsByTagName('html')[0].innerHTML\") #Pega o codigo apos a renderizacao\n",
    "    get_details = BeautifulSoup(html, \"html.parser\")\n",
    "    offers = get_details.select(\"._gw4xx4\")\n",
    "    offersArray = []\n",
    "    for offer in offers:\n",
    "        offerText = offer.getText(strip = True)\n",
    "        if ('Unavailable' not in offerText):\n",
    "            offersArray.append(offerText)\n",
    "\n",
    "    infoArray['offersArray'] = offersArray\n",
    "    print(offersArray)\n",
    "\n",
    "    try:\n",
    "        WebDriverWait(driver, 1).until(EC.presence_of_element_located((By.CSS_SELECTOR, \"body > div > section > div > div > div._z4lmgp > div > div._pa35zs > button\"))).click()\n",
    "    except:\n",
    "        pass\n",
    "\n",
    "def closeModal():\n",
    "    WebDriverWait(driver, 1).until(EC.presence_of_element_located((By.CSS_SELECTOR, \"body > div > section > div > div > div._z4lmgp > div > div._1piuevz > button\"))).click()\n",
    "\n",
    "    \n",
    "\n",
    "\n",
    "accessHouse(\"https://www.airbnb.com/rooms/39610645?adults=1&category_tag=Tag%3A677&children=0&infants=0&pets=0&search_mode=flex_destinations_search&check_in=2023-02-22&check_out=2023-02-27&source_impression_id=p3_1676064212_6q6%2B2Tda%2B9CGQMdM\")\n",
    "\n"
   ]
  },
  {
   "cell_type": "code",
   "execution_count": 8,
   "metadata": {},
   "outputs": [
    {
     "name": "stdout",
     "output_type": "stream",
     "text": [
      "['Cleaning products', 'Shampoo', 'Hot water', 'Essentials', 'Bed linens', 'Extra pillows and blankets', 'First aid kit', 'Wifi', 'Kitchen', 'Refrigerator', 'Cooking basics', 'Dishes and silverware', 'Stove', 'Oven', 'Beach access – Beachfront', 'Shared patio or balcony', 'Free street parking', 'Elevator', 'Luggage dropoff allowed', 'Smoking allowed', 'Long term stays allowed', 'Self check-in', 'Lockbox']\n"
     ]
    }
   ],
   "source": [
    "getOffers()\n",
    "\n",
    "# print(get_details)\n",
    "\n",
    "# body > div:nth-child(52) > section > div > div > div._z4lmgp > div > div._17itzz4"
   ]
  },
  {
   "cell_type": "code",
   "execution_count": 17,
   "metadata": {},
   "outputs": [
    {
     "data": {
      "text/plain": [
       "{'title': 'Aloha Beach House',\n",
       " 'rentalPrice': 'R$88',\n",
       " 'offersArray': ['Cleaning products',\n",
       "  'Shampoo',\n",
       "  'Hot water',\n",
       "  'Essentials',\n",
       "  'Bed linens',\n",
       "  'Extra pillows and blankets',\n",
       "  'First aid kit',\n",
       "  'Wifi',\n",
       "  'Kitchen',\n",
       "  'Refrigerator',\n",
       "  'Cooking basics',\n",
       "  'Dishes and silverware',\n",
       "  'Stove',\n",
       "  'Oven',\n",
       "  'Beach access – Beachfront',\n",
       "  'Shared patio or balcony',\n",
       "  'Free street parking',\n",
       "  'Elevator',\n",
       "  'Luggage dropoff allowed',\n",
       "  'Smoking allowed',\n",
       "  'Long term stays allowed',\n",
       "  'Self check-in',\n",
       "  'Lockbox']}"
      ]
     },
     "execution_count": 17,
     "metadata": {},
     "output_type": "execute_result"
    }
   ],
   "source": [
    "infoArray"
   ]
  }
 ],
 "metadata": {
  "kernelspec": {
   "display_name": "Python 3",
   "language": "python",
   "name": "python3"
  },
  "language_info": {
   "codemirror_mode": {
    "name": "ipython",
    "version": 3
   },
   "file_extension": ".py",
   "mimetype": "text/x-python",
   "name": "python",
   "nbconvert_exporter": "python",
   "pygments_lexer": "ipython3",
   "version": "3.9.13"
  },
  "orig_nbformat": 4,
  "vscode": {
   "interpreter": {
    "hash": "2071d3194773da0b7208f69b73c4de383a3fc09a5bb2861468522ca41ae8c334"
   }
  }
 },
 "nbformat": 4,
 "nbformat_minor": 2
}
